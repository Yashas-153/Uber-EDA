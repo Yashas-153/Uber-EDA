{
 "cells": [
  {
   "cell_type": "code",
   "execution_count": 1,
   "id": "f9c90ae5",
   "metadata": {},
   "outputs": [],
   "source": [
    "#importing required librarires\n",
    "import numpy as np\n",
    "import pandas as pd\n",
    "import matplotlib.pyplot as plt\n",
    "import plotly.express as px\n",
    "%matplotlib inline\n"
   ]
  },
  {
   "cell_type": "code",
   "execution_count": 2,
   "id": "899eef55",
   "metadata": {},
   "outputs": [],
   "source": [
    "#reading the given csv file\n",
    "urd = pd.read_csv(\"Uber Request Data.csv\")"
   ]
  },
  {
   "cell_type": "code",
   "execution_count": 3,
   "id": "2c8a271a",
   "metadata": {},
   "outputs": [
    {
     "name": "stdout",
     "output_type": "stream",
     "text": [
      "<class 'pandas.core.frame.DataFrame'>\n",
      "RangeIndex: 6745 entries, 0 to 6744\n",
      "Data columns (total 6 columns):\n",
      " #   Column             Non-Null Count  Dtype  \n",
      "---  ------             --------------  -----  \n",
      " 0   Request id         6745 non-null   int64  \n",
      " 1   Pickup point       6745 non-null   object \n",
      " 2   Driver id          4095 non-null   float64\n",
      " 3   Status             6745 non-null   object \n",
      " 4   Request timestamp  6745 non-null   object \n",
      " 5   Drop timestamp     2831 non-null   object \n",
      "dtypes: float64(1), int64(1), object(4)\n",
      "memory usage: 316.3+ KB\n"
     ]
    }
   ],
   "source": [
    "urd.info()"
   ]
  },
  {
   "cell_type": "code",
   "execution_count": 4,
   "id": "da211491",
   "metadata": {},
   "outputs": [
    {
     "data": {
      "text/html": [
       "<div>\n",
       "<style scoped>\n",
       "    .dataframe tbody tr th:only-of-type {\n",
       "        vertical-align: middle;\n",
       "    }\n",
       "\n",
       "    .dataframe tbody tr th {\n",
       "        vertical-align: top;\n",
       "    }\n",
       "\n",
       "    .dataframe thead th {\n",
       "        text-align: right;\n",
       "    }\n",
       "</style>\n",
       "<table border=\"1\" class=\"dataframe\">\n",
       "  <thead>\n",
       "    <tr style=\"text-align: right;\">\n",
       "      <th></th>\n",
       "      <th>Request id</th>\n",
       "      <th>Pickup point</th>\n",
       "      <th>Driver id</th>\n",
       "      <th>Status</th>\n",
       "      <th>Request timestamp</th>\n",
       "      <th>Drop timestamp</th>\n",
       "    </tr>\n",
       "  </thead>\n",
       "  <tbody>\n",
       "    <tr>\n",
       "      <th>0</th>\n",
       "      <td>619</td>\n",
       "      <td>Airport</td>\n",
       "      <td>1.0</td>\n",
       "      <td>Trip Completed</td>\n",
       "      <td>11/7/2016 11:51</td>\n",
       "      <td>11/7/2016 13:00</td>\n",
       "    </tr>\n",
       "    <tr>\n",
       "      <th>1</th>\n",
       "      <td>867</td>\n",
       "      <td>Airport</td>\n",
       "      <td>1.0</td>\n",
       "      <td>Trip Completed</td>\n",
       "      <td>11/7/2016 17:57</td>\n",
       "      <td>11/7/2016 18:47</td>\n",
       "    </tr>\n",
       "    <tr>\n",
       "      <th>2</th>\n",
       "      <td>1807</td>\n",
       "      <td>City</td>\n",
       "      <td>1.0</td>\n",
       "      <td>Trip Completed</td>\n",
       "      <td>12/7/2016 9:17</td>\n",
       "      <td>12/7/2016 9:58</td>\n",
       "    </tr>\n",
       "    <tr>\n",
       "      <th>3</th>\n",
       "      <td>2532</td>\n",
       "      <td>Airport</td>\n",
       "      <td>1.0</td>\n",
       "      <td>Trip Completed</td>\n",
       "      <td>12/7/2016 21:08</td>\n",
       "      <td>12/7/2016 22:03</td>\n",
       "    </tr>\n",
       "    <tr>\n",
       "      <th>4</th>\n",
       "      <td>3112</td>\n",
       "      <td>City</td>\n",
       "      <td>1.0</td>\n",
       "      <td>Trip Completed</td>\n",
       "      <td>13-07-2016 08:33:16</td>\n",
       "      <td>13-07-2016 09:25:47</td>\n",
       "    </tr>\n",
       "  </tbody>\n",
       "</table>\n",
       "</div>"
      ],
      "text/plain": [
       "   Request id Pickup point  Driver id          Status    Request timestamp  \\\n",
       "0         619      Airport        1.0  Trip Completed      11/7/2016 11:51   \n",
       "1         867      Airport        1.0  Trip Completed      11/7/2016 17:57   \n",
       "2        1807         City        1.0  Trip Completed       12/7/2016 9:17   \n",
       "3        2532      Airport        1.0  Trip Completed      12/7/2016 21:08   \n",
       "4        3112         City        1.0  Trip Completed  13-07-2016 08:33:16   \n",
       "\n",
       "        Drop timestamp  \n",
       "0      11/7/2016 13:00  \n",
       "1      11/7/2016 18:47  \n",
       "2       12/7/2016 9:58  \n",
       "3      12/7/2016 22:03  \n",
       "4  13-07-2016 09:25:47  "
      ]
     },
     "execution_count": 4,
     "metadata": {},
     "output_type": "execute_result"
    }
   ],
   "source": [
    "urd.head()"
   ]
  },
  {
   "cell_type": "code",
   "execution_count": 5,
   "id": "de323403",
   "metadata": {},
   "outputs": [],
   "source": [
    "#converting \"Request timestamp\" from string to date_time object \n",
    "urd[\"Request timestamp\"] = pd.to_datetime(urd[\"Request timestamp\"])"
   ]
  },
  {
   "cell_type": "code",
   "execution_count": 6,
   "id": "ff817639",
   "metadata": {},
   "outputs": [],
   "source": [
    "#converting \"Drop timestamp\" from string to date_time object \n",
    "urd[\"Drop timestamp\"] = pd.to_datetime(urd[\"Drop timestamp\"])"
   ]
  },
  {
   "cell_type": "code",
   "execution_count": 7,
   "id": "2d570979",
   "metadata": {},
   "outputs": [
    {
     "data": {
      "text/html": [
       "<div>\n",
       "<style scoped>\n",
       "    .dataframe tbody tr th:only-of-type {\n",
       "        vertical-align: middle;\n",
       "    }\n",
       "\n",
       "    .dataframe tbody tr th {\n",
       "        vertical-align: top;\n",
       "    }\n",
       "\n",
       "    .dataframe thead th {\n",
       "        text-align: right;\n",
       "    }\n",
       "</style>\n",
       "<table border=\"1\" class=\"dataframe\">\n",
       "  <thead>\n",
       "    <tr style=\"text-align: right;\">\n",
       "      <th></th>\n",
       "      <th>Request id</th>\n",
       "      <th>Pickup point</th>\n",
       "      <th>Driver id</th>\n",
       "      <th>Status</th>\n",
       "      <th>Request timestamp</th>\n",
       "      <th>Drop timestamp</th>\n",
       "    </tr>\n",
       "  </thead>\n",
       "  <tbody>\n",
       "    <tr>\n",
       "      <th>0</th>\n",
       "      <td>619</td>\n",
       "      <td>Airport</td>\n",
       "      <td>1.0</td>\n",
       "      <td>Trip Completed</td>\n",
       "      <td>2016-11-07 11:51:00</td>\n",
       "      <td>2016-11-07 13:00:00</td>\n",
       "    </tr>\n",
       "    <tr>\n",
       "      <th>1</th>\n",
       "      <td>867</td>\n",
       "      <td>Airport</td>\n",
       "      <td>1.0</td>\n",
       "      <td>Trip Completed</td>\n",
       "      <td>2016-11-07 17:57:00</td>\n",
       "      <td>2016-11-07 18:47:00</td>\n",
       "    </tr>\n",
       "    <tr>\n",
       "      <th>2</th>\n",
       "      <td>1807</td>\n",
       "      <td>City</td>\n",
       "      <td>1.0</td>\n",
       "      <td>Trip Completed</td>\n",
       "      <td>2016-12-07 09:17:00</td>\n",
       "      <td>2016-12-07 09:58:00</td>\n",
       "    </tr>\n",
       "    <tr>\n",
       "      <th>3</th>\n",
       "      <td>2532</td>\n",
       "      <td>Airport</td>\n",
       "      <td>1.0</td>\n",
       "      <td>Trip Completed</td>\n",
       "      <td>2016-12-07 21:08:00</td>\n",
       "      <td>2016-12-07 22:03:00</td>\n",
       "    </tr>\n",
       "    <tr>\n",
       "      <th>4</th>\n",
       "      <td>3112</td>\n",
       "      <td>City</td>\n",
       "      <td>1.0</td>\n",
       "      <td>Trip Completed</td>\n",
       "      <td>2016-07-13 08:33:16</td>\n",
       "      <td>2016-07-13 09:25:47</td>\n",
       "    </tr>\n",
       "  </tbody>\n",
       "</table>\n",
       "</div>"
      ],
      "text/plain": [
       "   Request id Pickup point  Driver id          Status   Request timestamp  \\\n",
       "0         619      Airport        1.0  Trip Completed 2016-11-07 11:51:00   \n",
       "1         867      Airport        1.0  Trip Completed 2016-11-07 17:57:00   \n",
       "2        1807         City        1.0  Trip Completed 2016-12-07 09:17:00   \n",
       "3        2532      Airport        1.0  Trip Completed 2016-12-07 21:08:00   \n",
       "4        3112         City        1.0  Trip Completed 2016-07-13 08:33:16   \n",
       "\n",
       "       Drop timestamp  \n",
       "0 2016-11-07 13:00:00  \n",
       "1 2016-11-07 18:47:00  \n",
       "2 2016-12-07 09:58:00  \n",
       "3 2016-12-07 22:03:00  \n",
       "4 2016-07-13 09:25:47  "
      ]
     },
     "execution_count": 7,
     "metadata": {},
     "output_type": "execute_result"
    }
   ],
   "source": [
    "urd.head()"
   ]
  },
  {
   "cell_type": "code",
   "execution_count": 8,
   "id": "ae8ecc39",
   "metadata": {},
   "outputs": [
    {
     "data": {
      "text/plain": [
       "Request id           1327\n",
       "Pickup point         1327\n",
       "Driver id            1327\n",
       "Status               1327\n",
       "Request timestamp    1327\n",
       "Drop timestamp       1327\n",
       "dtype: int64"
      ]
     },
     "execution_count": 8,
     "metadata": {},
     "output_type": "execute_result"
    }
   ],
   "source": [
    "#finding the number of entries whose trips from airport that  has been completed \n",
    "urd[(urd[\"Status\"] == \"Trip Completed\") &(urd[\"Pickup point\"]==\"Airport\")].count()"
   ]
  },
  {
   "cell_type": "code",
   "execution_count": 9,
   "id": "54f07177",
   "metadata": {},
   "outputs": [
    {
     "data": {
      "text/plain": [
       "Request id           1504\n",
       "Pickup point         1504\n",
       "Driver id            1504\n",
       "Status               1504\n",
       "Request timestamp    1504\n",
       "Drop timestamp       1504\n",
       "dtype: int64"
      ]
     },
     "execution_count": 9,
     "metadata": {},
     "output_type": "execute_result"
    }
   ],
   "source": [
    "#finding the number of entries whose trips from city that has been completed \n",
    "urd[(urd[\"Status\"] == \"Trip Completed\") &(urd[\"Pickup point\"]==\"City\")].count()"
   ]
  },
  {
   "cell_type": "code",
   "execution_count": 10,
   "id": "7770c401",
   "metadata": {},
   "outputs": [
    {
     "data": {
      "text/plain": [
       "Request id           198\n",
       "Pickup point         198\n",
       "Driver id            198\n",
       "Status               198\n",
       "Request timestamp    198\n",
       "Drop timestamp         0\n",
       "dtype: int64"
      ]
     },
     "execution_count": 10,
     "metadata": {},
     "output_type": "execute_result"
    }
   ],
   "source": [
    "#finding the number of entries whose trips from airport that has been cancelled\n",
    "urd[(urd[\"Status\"]== \"Cancelled\") & (urd[\"Pickup point\"]==\"Airport\")].count()"
   ]
  },
  {
   "cell_type": "code",
   "execution_count": 11,
   "id": "f0f42047",
   "metadata": {},
   "outputs": [
    {
     "data": {
      "text/plain": [
       "Request id           1066\n",
       "Pickup point         1066\n",
       "Driver id            1066\n",
       "Status               1066\n",
       "Request timestamp    1066\n",
       "Drop timestamp          0\n",
       "dtype: int64"
      ]
     },
     "execution_count": 11,
     "metadata": {},
     "output_type": "execute_result"
    }
   ],
   "source": [
    "#finding the number of entries whose trips from city that has been cancelled\n",
    "urd[(urd[\"Status\"] == \"Cancelled\") &(urd[\"Pickup point\"]==\"City\")].count()"
   ]
  },
  {
   "cell_type": "code",
   "execution_count": 12,
   "id": "e8049571",
   "metadata": {
    "scrolled": true
   },
   "outputs": [
    {
     "data": {
      "text/plain": [
       "Request id           1713\n",
       "Pickup point         1713\n",
       "Driver id               0\n",
       "Status               1713\n",
       "Request timestamp    1713\n",
       "Drop timestamp          0\n",
       "dtype: int64"
      ]
     },
     "execution_count": 12,
     "metadata": {},
     "output_type": "execute_result"
    }
   ],
   "source": [
    "#finding the number of entries whose trips from airport and whose status was No cars available.\n",
    "urd[(urd[\"Status\"]== \"No Cars Available\") & (urd[\"Pickup point\"]==\"Airport\")].count()"
   ]
  },
  {
   "cell_type": "code",
   "execution_count": 13,
   "id": "a88bf5ec",
   "metadata": {},
   "outputs": [
    {
     "data": {
      "text/plain": [
       "Request id           937\n",
       "Pickup point         937\n",
       "Driver id              0\n",
       "Status               937\n",
       "Request timestamp    937\n",
       "Drop timestamp         0\n",
       "dtype: int64"
      ]
     },
     "execution_count": 13,
     "metadata": {},
     "output_type": "execute_result"
    }
   ],
   "source": [
    "#finding the number of entries whose trips from city and whose status was No cars available.\n",
    "urd[(urd[\"Status\"]== \"No Cars Available\") & (urd[\"Pickup point\"]==\"City\")].count()"
   ]
  },
  {
   "cell_type": "code",
   "execution_count": 14,
   "id": "4de7f24f",
   "metadata": {},
   "outputs": [
    {
     "data": {
      "text/plain": [
       "array(['Trip Completed', 'Cancelled', 'No Cars Available'], dtype=object)"
      ]
     },
     "execution_count": 14,
     "metadata": {},
     "output_type": "execute_result"
    }
   ],
   "source": [
    "#creating an array of unique entries in Status column\n",
    "status = urd[\"Status\"].unique()\n",
    "status"
   ]
  },
  {
   "cell_type": "code",
   "execution_count": 15,
   "id": "170919c6",
   "metadata": {},
   "outputs": [],
   "source": [
    "from_airport = [1327,198,1713]\n",
    "from_city = [1504,1066,973]\n",
    "X = np.arange(len(from_airport))"
   ]
  },
  {
   "cell_type": "code",
   "execution_count": 16,
   "id": "55bb6499",
   "metadata": {},
   "outputs": [
    {
     "data": {
      "image/png": "[encoded data removed]",
      "text/plain": [
       "<Figure size 720x504 with 1 Axes>"
      ]
     },
     "metadata": {
      "needs_background": "light"
     },
     "output_type": "display_data"
    }
   ],
   "source": [
    "plt.figure(figsize=[10,7])\n",
    "plt.bar(X,from_airport, color = \"#364F6B\", width = 0.3)\n",
    "plt.bar(X +0.3 , from_city, color = \"#3FC1C9\", width = 0.3)\n",
    "plt.xticks([i + 0.3 for i in range(3)], status)\n",
    "plt.legend(['Airport','City'])\n",
    "plt.title(\"Bar plot to show the number of times of occurences of different events from a pickup point\")\n",
    "plt.show()"
   ]
  },
  {
   "cell_type": "markdown",
   "id": "894972f0",
   "metadata": {},
   "source": [
    "<ul>\n",
    "<li>We can see from the graph that sum of \n",
    "‘cancelled’ and ‘no cars available’ is almost \n",
    "equal to twice of ‘completed trips’.<br>\n",
    "So it appears that more than 50% of trips are \n",
    "    not happening.</li>\n",
    "<li>Number of cancellation of trips from City to \n",
    "Airport are more than from Airport to city. \n",
    "This is because Drivers would never leave \n",
    "empty from airport to city as it would be loss \n",
    "    for them</li>\n",
    "<li>More number of drivers cancel the trip from \n",
    "    city to airport.</li>\n",
    "<li>Which is the cause for the more number of \n",
    "    cars not available at the airport.</li>\n",
    "</ul>"
   ]
  },
  {
   "cell_type": "code",
   "execution_count": 17,
   "id": "62c9128d",
   "metadata": {
    "scrolled": true
   },
   "outputs": [],
   "source": [
    "urd[\"Hour\"] = urd[\"Request timestamp\"].dt.hour"
   ]
  },
  {
   "cell_type": "code",
   "execution_count": 18,
   "id": "d0524565",
   "metadata": {},
   "outputs": [],
   "source": [
    "def daytimeagg(hour):\n",
    "    if hour >= 3 and hour<= 7:\n",
    "        return \"Early Morning\"\n",
    "    elif hour >= 8 and hour <= 11:\n",
    "        return \"Morning\"\n",
    "    elif hour >= 12 and hour <= 15:\n",
    "        return \"Afternoon\"\n",
    "    elif hour >= 16 and hour <= 19:\n",
    "        return \"Evening\"\n",
    "    elif hour >= 20:\n",
    "        return \"Night\"\n",
    "    elif hour <= 2:\n",
    "        return \"Night\"\n",
    "    "
   ]
  },
  {
   "cell_type": "code",
   "execution_count": 19,
   "id": "f0e96c03",
   "metadata": {},
   "outputs": [
    {
     "data": {
      "text/html": [
       "<div>\n",
       "<style scoped>\n",
       "    .dataframe tbody tr th:only-of-type {\n",
       "        vertical-align: middle;\n",
       "    }\n",
       "\n",
       "    .dataframe tbody tr th {\n",
       "        vertical-align: top;\n",
       "    }\n",
       "\n",
       "    .dataframe thead th {\n",
       "        text-align: right;\n",
       "    }\n",
       "</style>\n",
       "<table border=\"1\" class=\"dataframe\">\n",
       "  <thead>\n",
       "    <tr style=\"text-align: right;\">\n",
       "      <th></th>\n",
       "      <th>Request id</th>\n",
       "      <th>Pickup point</th>\n",
       "      <th>Driver id</th>\n",
       "      <th>Status</th>\n",
       "      <th>Request timestamp</th>\n",
       "      <th>Drop timestamp</th>\n",
       "      <th>Hour</th>\n",
       "      <th>Daytime</th>\n",
       "    </tr>\n",
       "  </thead>\n",
       "  <tbody>\n",
       "    <tr>\n",
       "      <th>0</th>\n",
       "      <td>619</td>\n",
       "      <td>Airport</td>\n",
       "      <td>1.0</td>\n",
       "      <td>Trip Completed</td>\n",
       "      <td>2016-11-07 11:51:00</td>\n",
       "      <td>2016-11-07 13:00:00</td>\n",
       "      <td>11</td>\n",
       "      <td>Morning</td>\n",
       "    </tr>\n",
       "    <tr>\n",
       "      <th>1</th>\n",
       "      <td>867</td>\n",
       "      <td>Airport</td>\n",
       "      <td>1.0</td>\n",
       "      <td>Trip Completed</td>\n",
       "      <td>2016-11-07 17:57:00</td>\n",
       "      <td>2016-11-07 18:47:00</td>\n",
       "      <td>17</td>\n",
       "      <td>Evening</td>\n",
       "    </tr>\n",
       "    <tr>\n",
       "      <th>2</th>\n",
       "      <td>1807</td>\n",
       "      <td>City</td>\n",
       "      <td>1.0</td>\n",
       "      <td>Trip Completed</td>\n",
       "      <td>2016-12-07 09:17:00</td>\n",
       "      <td>2016-12-07 09:58:00</td>\n",
       "      <td>9</td>\n",
       "      <td>Morning</td>\n",
       "    </tr>\n",
       "    <tr>\n",
       "      <th>3</th>\n",
       "      <td>2532</td>\n",
       "      <td>Airport</td>\n",
       "      <td>1.0</td>\n",
       "      <td>Trip Completed</td>\n",
       "      <td>2016-12-07 21:08:00</td>\n",
       "      <td>2016-12-07 22:03:00</td>\n",
       "      <td>21</td>\n",
       "      <td>Night</td>\n",
       "    </tr>\n",
       "    <tr>\n",
       "      <th>4</th>\n",
       "      <td>3112</td>\n",
       "      <td>City</td>\n",
       "      <td>1.0</td>\n",
       "      <td>Trip Completed</td>\n",
       "      <td>2016-07-13 08:33:16</td>\n",
       "      <td>2016-07-13 09:25:47</td>\n",
       "      <td>8</td>\n",
       "      <td>Morning</td>\n",
       "    </tr>\n",
       "  </tbody>\n",
       "</table>\n",
       "</div>"
      ],
      "text/plain": [
       "   Request id Pickup point  Driver id          Status   Request timestamp  \\\n",
       "0         619      Airport        1.0  Trip Completed 2016-11-07 11:51:00   \n",
       "1         867      Airport        1.0  Trip Completed 2016-11-07 17:57:00   \n",
       "2        1807         City        1.0  Trip Completed 2016-12-07 09:17:00   \n",
       "3        2532      Airport        1.0  Trip Completed 2016-12-07 21:08:00   \n",
       "4        3112         City        1.0  Trip Completed 2016-07-13 08:33:16   \n",
       "\n",
       "       Drop timestamp  Hour  Daytime  \n",
       "0 2016-11-07 13:00:00    11  Morning  \n",
       "1 2016-11-07 18:47:00    17  Evening  \n",
       "2 2016-12-07 09:58:00     9  Morning  \n",
       "3 2016-12-07 22:03:00    21    Night  \n",
       "4 2016-07-13 09:25:47     8  Morning  "
      ]
     },
     "execution_count": 19,
     "metadata": {},
     "output_type": "execute_result"
    }
   ],
   "source": [
    "urd[\"Daytime\"] = urd.apply(lambda row : daytimeagg(row[\"Hour\"]),axis = 1)\n",
    "urd.head()"
   ]
  },
  {
   "cell_type": "code",
   "execution_count": 20,
   "id": "851256ec",
   "metadata": {
    "scrolled": true
   },
   "outputs": [
    {
     "data": {
      "text/plain": [
       "Evening          63\n",
       "Night            60\n",
       "Afternoon        36\n",
       "Morning          24\n",
       "Early Morning    15\n",
       "Name: Daytime, dtype: int64"
      ]
     },
     "execution_count": 20,
     "metadata": {},
     "output_type": "execute_result"
    }
   ],
   "source": [
    "urd[(urd[\"Status\"] == \"Cancelled\") & (urd[\"Pickup point\"] == \"Airport\")][\"Daytime\"].value_counts()"
   ]
  },
  {
   "cell_type": "code",
   "execution_count": 21,
   "id": "70539a83",
   "metadata": {},
   "outputs": [
    {
     "data": {
      "text/plain": [
       "Early Morning    528\n",
       "Morning          406\n",
       "Night             57\n",
       "Evening           42\n",
       "Afternoon         33\n",
       "Name: Daytime, dtype: int64"
      ]
     },
     "execution_count": 21,
     "metadata": {},
     "output_type": "execute_result"
    }
   ],
   "source": [
    "urd[(urd[\"Status\"] == \"Cancelled\") & (urd[\"Pickup point\"] == \"City\")][\"Daytime\"].value_counts()"
   ]
  },
  {
   "cell_type": "code",
   "execution_count": 22,
   "id": "f4128484",
   "metadata": {
    "scrolled": true
   },
   "outputs": [
    {
     "data": {
      "text/plain": [
       "Evening          801\n",
       "Night            749\n",
       "Early Morning     74\n",
       "Afternoon         55\n",
       "Morning           34\n",
       "Name: Daytime, dtype: int64"
      ]
     },
     "execution_count": 22,
     "metadata": {},
     "output_type": "execute_result"
    }
   ],
   "source": [
    "urd[(urd[\"Status\"] == \"No Cars Available\" ) &(urd[\"Pickup point\"] == \"Airport\") ][\"Daytime\"].value_counts()"
   ]
  },
  {
   "cell_type": "code",
   "execution_count": 23,
   "id": "502b8c43",
   "metadata": {},
   "outputs": [
    {
     "data": {
      "text/plain": [
       "Early Morning    289\n",
       "Morning          245\n",
       "Night            194\n",
       "Afternoon        127\n",
       "Evening           82\n",
       "Name: Daytime, dtype: int64"
      ]
     },
     "execution_count": 23,
     "metadata": {},
     "output_type": "execute_result"
    }
   ],
   "source": [
    "urd[(urd[\"Status\"] == \"No Cars Available\" ) &(urd[\"Pickup point\"] == \"City\") ][\"Daytime\"].value_counts()"
   ]
  },
  {
   "cell_type": "code",
   "execution_count": 24,
   "id": "bb4dca10",
   "metadata": {
    "scrolled": true
   },
   "outputs": [
    {
     "data": {
      "text/plain": [
       "Night            329\n",
       "Early Morning    292\n",
       "Evening          276\n",
       "Morning          243\n",
       "Afternoon        187\n",
       "Name: Daytime, dtype: int64"
      ]
     },
     "execution_count": 24,
     "metadata": {},
     "output_type": "execute_result"
    }
   ],
   "source": [
    "urd[(urd[\"Status\"] == \"Trip Completed\" ) &(urd[\"Pickup point\"] == \"Airport\") ][\"Daytime\"].value_counts()"
   ]
  },
  {
   "cell_type": "code",
   "execution_count": 25,
   "id": "0f9f9af2",
   "metadata": {},
   "outputs": [
    {
     "data": {
      "text/plain": [
       "Early Morning    346\n",
       "Night            333\n",
       "Morning          316\n",
       "Evening          296\n",
       "Afternoon        213\n",
       "Name: Daytime, dtype: int64"
      ]
     },
     "execution_count": 25,
     "metadata": {},
     "output_type": "execute_result"
    }
   ],
   "source": [
    "urd[(urd[\"Status\"] == \"Trip Completed\" ) &(urd[\"Pickup point\"] == \"City\")][\"Daytime\"].value_counts()"
   ]
  },
  {
   "cell_type": "code",
   "execution_count": 26,
   "id": "d58d3601",
   "metadata": {},
   "outputs": [],
   "source": [
    "daytime_grp = ['Early Morning (03-07)','Morning(08-11)','Afternoon(12-15)', 'Evening(16-19)', 'Night(20-02)']"
   ]
  },
  {
   "cell_type": "code",
   "execution_count": 27,
   "id": "cf5d0d3b",
   "metadata": {
    "scrolled": true
   },
   "outputs": [
    {
     "data": {
      "image/png": "[encoded data removed]",
      "text/plain": [
       "<Figure size 576x360 with 1 Axes>"
      ]
     },
     "metadata": {
      "needs_background": "light"
     },
     "output_type": "display_data"
    }
   ],
   "source": [
    "tc_air = [292,243,187,276,329]\n",
    "x = np.arange(len(tc_air))\n",
    "plt.figure(figsize= [8,5])\n",
    "plt.bar(x, tc_air, color = \"#3944BC\", width =0.3)\n",
    "#plt.bar(x + 0.3, tc_city, color = \"#A42838\",width = 0.3)\n",
    "plt.xticks([i + 0.3 for i in range(5)], daytime_grp)\n",
    "#plt.legend([\"Cancelled\",\"No Cars Available \"])\n",
    "plt.title(\"Completed trips starting from Airport\")\n",
    "plt.show()"
   ]
  },
  {
   "cell_type": "code",
   "execution_count": 28,
   "id": "806387a2",
   "metadata": {},
   "outputs": [
    {
     "data": {
      "image/png": "[encoded data removed]",
      "text/plain": [
       "<Figure size 576x360 with 1 Axes>"
      ]
     },
     "metadata": {
      "needs_background": "light"
     },
     "output_type": "display_data"
    }
   ],
   "source": [
    "tc_city = [346,316,213,296,333]\n",
    "plt.figure(figsize= [8,5])\n",
    "plt.bar(x, tc_air, color = \"#3944BC\", width =0.3)\n",
    "#plt.bar(x + 0.3, tc_city, color = \"#A42838\",width = 0.3)\n",
    "plt.xticks([i + 0.3 for i in range(5)], daytime_grp)\n",
    "#plt.legend([\"Cancelled\",\"No Cars Available \"])\n",
    "plt.title(\"Completed trips starting from City\")\n",
    "plt.show()"
   ]
  },
  {
   "cell_type": "markdown",
   "id": "83b0a93c",
   "metadata": {},
   "source": [
    "<ul>\n",
    "    <li>Approximately 300+250 = 550 rides were\n",
    "        completed in the same time slot.</li>\n",
    "    <li>Only 26.82% rides were completed where as the\n",
    "        remaining 73.17% rides did not happen which\n",
    "        tends to a great loss for the company.</li>\n",
    "</ul>"
   ]
  },
  {
   "cell_type": "code",
   "execution_count": 29,
   "id": "48272ba3",
   "metadata": {},
   "outputs": [],
   "source": [
    "cncld_air = [15,24,36,63,60]\n",
    "no_cars_avail_air = [74,34,55,801,749]\n",
    "cncld_city =[528,406,33,42,57]\n",
    "no_cars_avail_city = [289,245,127,82,194]\n",
    "x = np.arange(len(cncld_air))\n"
   ]
  },
  {
   "cell_type": "code",
   "execution_count": 30,
   "id": "61cea009",
   "metadata": {
    "scrolled": false
   },
   "outputs": [
    {
     "data": {
      "image/png": "[encoded data removed]",
      "text/plain": [
       "<Figure size 720x504 with 1 Axes>"
      ]
     },
     "metadata": {
      "needs_background": "light"
     },
     "output_type": "display_data"
    }
   ],
   "source": [
    "plt.figure(figsize= [10,7])\n",
    "plt.bar(x, cncld_air, color = \"#29142C\", width =0.3)\n",
    "plt.bar(x + 0.3, no_cars_avail_air, color = \"#A42838\",width = 0.3)\n",
    "plt.xticks([i + 0.3 for i in range(5)], daytime_grp)\n",
    "plt.legend([\"Cancelled\",\"No Cars Available \"])\n",
    "plt.title(\"Trips starting from Airport\")\n",
    "plt.show()"
   ]
  },
  {
   "cell_type": "markdown",
   "id": "b4997e30",
   "metadata": {},
   "source": [
    "<ul>\n",
    "    <li>We can see that there is a high number of no \n",
    "        cars available event at evening and night.</li>\n",
    "    <li> There are little more number of cancellations \n",
    "    at evening and night than till afternoon.</li>\n",
    "    <li>There are more number of flights landing at \n",
    "    evening and night which could increase the \n",
    "    revenue if the cab drivers are available at the \n",
    "    Airport</li>\n",
    "</ul>\n",
    "    "
   ]
  },
  {
   "cell_type": "code",
   "execution_count": 31,
   "id": "95a3808e",
   "metadata": {},
   "outputs": [
    {
     "data": {
      "image/png": "[encoded data removed]",
      "text/plain": [
       "<Figure size 720x504 with 1 Axes>"
      ]
     },
     "metadata": {
      "needs_background": "light"
     },
     "output_type": "display_data"
    }
   ],
   "source": [
    "\n",
    "plt.figure(figsize= [10,7])\n",
    "plt.bar(x, cncld_city, color = \"#29142C\", width =0.3)\n",
    "plt.bar(x + 0.3, no_cars_avail_city, color = \"#A42838\",width = 0.3)\n",
    "plt.xticks([i + 0.3 for i in range(5)], daytime_grp)\n",
    "plt.legend([\"Cancelled\",\"No Cars Available \"])\n",
    "plt.title(\"Trips starting from city\")\n",
    "plt.show()"
   ]
  },
  {
   "cell_type": "markdown",
   "id": "c40f22ca",
   "metadata": {},
   "source": [
    "<ul>\n",
    "    <li>The graph shown here plots the number of \n",
    "        cancelled and no cars available event that has \n",
    "        occurred to user who tried booking from the city.</li>\n",
    "    <li>More number of drivers are cancelling the rides \n",
    "        to airport from city.</li> \n",
    "    <li>As we can see there are more number of\n",
    "        cancellation done in the Early morning and\n",
    "        morning time that is from 03:00 to 11:59.</li>\n",
    "    <li>There are more no cars available event at the\n",
    "        same time compared to other time.</li>\n",
    "</ul>"
   ]
  },
  {
   "cell_type": "code",
   "execution_count": 32,
   "id": "e4b2480d",
   "metadata": {
    "scrolled": true
   },
   "outputs": [
    {
     "data": {
      "text/plain": [
       "Night            1722\n",
       "Evening          1560\n",
       "Early Morning    1544\n",
       "Morning          1268\n",
       "Afternoon         651\n",
       "Name: Daytime, dtype: int64"
      ]
     },
     "execution_count": 32,
     "metadata": {},
     "output_type": "execute_result"
    }
   ],
   "source": [
    "urd[\"Daytime\"].value_counts()"
   ]
  },
  {
   "cell_type": "code",
   "execution_count": 33,
   "id": "7d968051",
   "metadata": {},
   "outputs": [
    {
     "data": {
      "text/plain": [
       "Evening          1140\n",
       "Night            1138\n",
       "Early Morning     381\n",
       "Morning           301\n",
       "Afternoon         278\n",
       "Name: Daytime, dtype: int64"
      ]
     },
     "execution_count": 33,
     "metadata": {},
     "output_type": "execute_result"
    }
   ],
   "source": [
    "#demand and supply for bookings from Airport\n",
    "urd[urd[\"Pickup point\"]== \"Airport\"][\"Daytime\"].value_counts()"
   ]
  },
  {
   "cell_type": "code",
   "execution_count": 34,
   "id": "754de192",
   "metadata": {
    "scrolled": false
   },
   "outputs": [
    {
     "data": {
      "text/plain": [
       "Text(0.5, 1.0, 'Demand and supply for bookings from Airport ')"
      ]
     },
     "execution_count": 34,
     "metadata": {},
     "output_type": "execute_result"
    },
    {
     "data": {
      "image/png": "[encoded data removed]",
      "text/plain": [
       "<Figure size 864x360 with 1 Axes>"
      ]
     },
     "metadata": {
      "needs_background": "light"
     },
     "output_type": "display_data"
    }
   ],
   "source": [
    "#demand and supply for bookings from Airport\n",
    "total_demand_air = [381,301,278,1140,1138]\n",
    "total_supply_air = [total_demand_air[i] - cncld_air[i] -no_cars_avail_air[i] for i in range(5)]\n",
    "total_gap_air = [no_cars_avail_air[i] + cncld_air[i] for i in range(5)]\n",
    "\n",
    "plt.figure(figsize = [12,5])\n",
    "plt.plot(daytime_grp, total_demand_air,linewidth= 3)\n",
    "plt.plot(daytime_grp, total_supply_air,linewidth= 3)\n",
    "plt.plot(daytime_grp, total_gap_air,linewidth= 3, linestyle = '--')\n",
    "plt.xlabel(\"Hour\")\n",
    "plt.ylabel(\"Count\")\n",
    "plt.legend([\"Demand\", \"Supply\" ,\"Gap\"] ,loc = 1)\n",
    "plt.title(\"Demand and supply for bookings from Airport \")"
   ]
  },
  {
   "cell_type": "markdown",
   "id": "7a452011",
   "metadata": {},
   "source": [
    "<ul>\n",
    "    <li>The graph shown here plots the Demand, \n",
    "        supply and the gap between the two for \n",
    "        the rides from the Airport w.r.t time \n",
    "        slots.</li>\n",
    "    <li>As we can see there is small decrease in \n",
    "        the number of bookings from morning to \n",
    "        afternoon and sharp increase from \n",
    "        almost 360 to 1140 in the evening and \n",
    "        stays the same till night.</li>\n",
    "    <li>76.64% of the rides were completed in \n",
    "        early morning time.</li>\n",
    "    <li>24.21% rides were completed in evening \n",
    "        time slot</li> \n",
    "    <li>Only 27.67% of the rides were completed at night. </li>\n",
    "    <li>We can see almost 50% decrement in completing the rides.</li>\n",
    "    <li>The demand at night and evening were 1140 and the supply was just around 280 and \n",
    "        330 respectively.</li>\n",
    "    <li>There is a large gap of almost 800-850 at this time and this could bring more revenue \n",
    "        to the company.</li>\n",
    "    <li>We can use the same analysis we used before for this.</li>\n",
    "</ul>\n"
   ]
  },
  {
   "cell_type": "code",
   "execution_count": 35,
   "id": "6fb85a4e",
   "metadata": {},
   "outputs": [
    {
     "data": {
      "text/plain": [
       "Early Morning    1163\n",
       "Morning           967\n",
       "Night             584\n",
       "Evening           420\n",
       "Afternoon         373\n",
       "Name: Daytime, dtype: int64"
      ]
     },
     "execution_count": 35,
     "metadata": {},
     "output_type": "execute_result"
    }
   ],
   "source": [
    "#demand and supply for bookings from City\n",
    "urd[urd[\"Pickup point\"]== \"City\"][\"Daytime\"].value_counts()"
   ]
  },
  {
   "cell_type": "code",
   "execution_count": 36,
   "id": "53a587f1",
   "metadata": {},
   "outputs": [],
   "source": [
    "#demand and supply for bookings from City\n",
    "total_demand_city = [1163,967,373,420,584]\n",
    "total_supply_city = [total_demand_city[i]  - cncld_city[i] - no_cars_avail_city[i] for i in range(5)]\n",
    "total_gap_city = [cncld_city[i] + no_cars_avail_city[i]  for i in range(5)]"
   ]
  },
  {
   "cell_type": "code",
   "execution_count": 37,
   "id": "3dc9e9a8",
   "metadata": {},
   "outputs": [
    {
     "data": {
      "text/plain": [
       "Text(0.5, 1.0, 'Demand and supply for bookings from City')"
      ]
     },
     "execution_count": 37,
     "metadata": {},
     "output_type": "execute_result"
    },
    {
     "data": {
      "image/png": "[encoded data removed]",
      "text/plain": [
       "<Figure size 864x576 with 1 Axes>"
      ]
     },
     "metadata": {
      "needs_background": "light"
     },
     "output_type": "display_data"
    }
   ],
   "source": [
    "plt.figure(figsize = [12,8])\n",
    "plt.plot(daytime_grp, total_demand_city,linewidth= 3)\n",
    "plt.plot(daytime_grp, total_supply_city,linewidth= 3)\n",
    "plt.plot(daytime_grp, total_gap_city,linewidth= 3, linestyle = '--')\n",
    "plt.xlabel(\"Hour\")\n",
    "plt.ylabel(\"Count\")\n",
    "plt.legend([\"Demand\", \"Supply\" ,\"Gap\"] ,loc = 1)\n",
    "plt.title(\"Demand and supply for bookings from City\")"
   ]
  },
  {
   "cell_type": "markdown",
   "id": "ccd78866",
   "metadata": {},
   "source": [
    "<ul>\n",
    "    <li>The graph shown here plots the Demand, \n",
    "            supply and the gap between the two for \n",
    "            the rides from the City to the Airport w.r.t \n",
    "            time slots.</li>\n",
    "    <li>here is a lot of demand at early \n",
    "        morning(1168) and morning (967) time \n",
    "        slots.</li>\n",
    "    <li>Then the requirement decreases till \n",
    "        afternoon and again there is small\n",
    "        increase ill night gradually.\n",
    "    <li>In the early morning time slots only \n",
    "        31.81% rides are completed and the rest \n",
    "        69.19% were not completed due to \n",
    "        cancellation and no cars availability.\n",
    "    <li>Initially the gap was high and got less till\n",
    "        evening and being the minimum at evening, and increased a bit at night . \n",
    "    <li>At night 57.02% of the rides were completed and 42.98% didn’t happen due to cancellation and non \n",
    "        availability of cars.</li>\n",
    "    <li>Overall an average of 51.08 % of the rides did not happen due to cancellation and non availability of \n",
    "        cars from the city to airport in the given time frame of the data set.</li>\n",
    "</ul>\n"
   ]
  },
  {
   "cell_type": "code",
   "execution_count": 38,
   "id": "877a06a8",
   "metadata": {},
   "outputs": [
    {
     "data": {
      "text/plain": [
       "[906, 709, 251, 988, 1060]"
      ]
     },
     "execution_count": 38,
     "metadata": {},
     "output_type": "execute_result"
    }
   ],
   "source": [
    "total_demand = [1544,1268,651,1560,1722]\n",
    "total_supply = [total_demand[i] - cncld_air[i] - cncld_city[i] - no_cars_avail_air[i] - no_cars_avail_city[i] for i in range(5)]\n",
    "total_supply\n",
    "total_gap = [total_demand[i] - total_supply[i] for i in range(5)]\n",
    "total_gap"
   ]
  },
  {
   "cell_type": "code",
   "execution_count": 39,
   "id": "056d6c99",
   "metadata": {
    "scrolled": false
   },
   "outputs": [
    {
     "data": {
      "text/plain": [
       "Text(0.5, 1.0, 'Demand and supply for overall bookings ')"
      ]
     },
     "execution_count": 39,
     "metadata": {},
     "output_type": "execute_result"
    },
    {
     "data": {
      "image/png": "[encoded data removed]",
      "text/plain": [
       "<Figure size 864x576 with 1 Axes>"
      ]
     },
     "metadata": {
      "needs_background": "light"
     },
     "output_type": "display_data"
    }
   ],
   "source": [
    "plt.figure(figsize = [12,8])\n",
    "plt.plot(daytime_grp, total_demand,linewidth= 3)\n",
    "plt.plot(daytime_grp, total_supply,linewidth= 3)\n",
    "plt.plot(daytime_grp, total_gap,linewidth= 3, linestyle = '--')\n",
    "plt.xlabel(\"Hour\")\n",
    "plt.ylabel(\"Count\")\n",
    "plt.legend([\"Demand\", \"Supply\" ,\"Gap\"] ,loc = 1)\n",
    "plt.title(\"Demand and supply for overall bookings \")"
   ]
  },
  {
   "cell_type": "markdown",
   "id": "48e4c00d",
   "metadata": {},
   "source": [
    "<ul>\n",
    "    <li>We can see from the graph that\n",
    "        there is high demand for cabs in\n",
    "        Early morning and night.</li>\n",
    "    <li>Less number of people get cabs in\n",
    "        the same time slot.</li>\n",
    "    <li>59.58% of the requirement is not\n",
    "        met due of both cancellation and\n",
    "        non availability of cabs in the early\n",
    "        morning time slots in overall trips.</li>\n",
    "    <li>It can be seen that 58.07% of the\n",
    "        requirement is also not met at\n",
    "        night in the overall trips.</li>\n",
    "    <li>In afternoon slot 35.48% demand\n",
    "        wasn’t met and 64.52% were\n",
    "        fulfilled as there were less number\n",
    "        of demands compared to other\n",
    "        time slots.</li>\n",
    "    <li>The overall supply wasn’t having large variations as much as demand had.</li>\n",
    "    <li>This shows us that there are almost same number of drivers available.</li>\n"
   ]
  },
  {
   "cell_type": "code",
   "execution_count": 40,
   "id": "165f1e15",
   "metadata": {},
   "outputs": [
    {
     "name": "stdout",
     "output_type": "stream",
     "text": [
      "[543, 430, 69, 105, 117]\n",
      "[363, 279, 182, 883, 943]\n",
      "2650\n",
      "1264\n",
      "2831\n"
     ]
    }
   ],
   "source": [
    "total_cancel = [cncld_air[i] + cncld_city[i] for i in range(5)]\n",
    "total_no_cars = [no_cars_avail_city[i] + no_cars_avail_air[i] for i in range(5)]\n",
    "print(total_cancel)\n",
    "print(total_no_cars)\n",
    "print(sum(total_no_cars))\n",
    "print(sum(total_cancel))\n",
    "print(sum(total_supply))\n"
   ]
  },
  {
   "cell_type": "code",
   "execution_count": 41,
   "id": "c0c16839",
   "metadata": {},
   "outputs": [
    {
     "data": {
      "image/png": "[encoded data removed]",
      "text/plain": [
       "<Figure size 720x504 with 1 Axes>"
      ]
     },
     "metadata": {
      "needs_background": "light"
     },
     "output_type": "display_data"
    }
   ],
   "source": [
    "#overall demand and supply based on non availablity of cars and cancellation\n",
    "\n",
    "xx = np.arange(5)\n",
    "plt.figure(figsize =[10,7])\n",
    "plt.bar(xx,total_cancel, width = 0.3,color = \"#30D5C8\")\n",
    "plt.bar(xx + 0.3,total_no_cars, width = 0.3,color = \"#DA70D6\")\n",
    "plt.xticks([i + 0.6 for i in range(5)], daytime_grp)\n",
    "plt.legend([\"Cancelled\",\"No Cars Avaiable\"])\n",
    "plt.xlabel(\"Time slots\")\n",
    "plt.ylabel(\"Count\")\n",
    "plt.title(\"Overall Demand gap w.r.t time slots\")\n",
    "plt.show()"
   ]
  },
  {
   "cell_type": "markdown",
   "id": "9389e74f",
   "metadata": {},
   "source": [
    "<ul> \n",
    "    <li>The major reason for most of the rides that did not\n",
    "        happen is due to Non availability of cars.</li>\n",
    "    <li>Out of the all the rides that didn't happen, 67.70%\n",
    "        were due to Non availability of cars and the rest\n",
    "        i.e., 32.30% didn’t happen due to cancellation of\n",
    "        rides by the driver.</li>\n",
    "    <li>We need more number of cabs to the company to\n",
    "        solve this major problem (non availability of cars).\n",
    "    <li>We have to make sure there are cabs available at\n",
    "        the airport at evening and night as the demand is\n",
    "        more at that time near airports.</li>\n",
    "</ul>"
   ]
  },
  {
   "cell_type": "code",
   "execution_count": 42,
   "id": "bc528f1c",
   "metadata": {},
   "outputs": [
    {
     "data": {
      "image/png": "[encoded data removed]",
      "text/plain": [
       "<Figure size 720x504 with 1 Axes>"
      ]
     },
     "metadata": {
      "needs_background": "light"
     },
     "output_type": "display_data"
    }
   ],
   "source": [
    "#overall demand and supply based on non availablity of cars and cancellation\n",
    "\n",
    "xx = np.arange(5)\n",
    "plt.figure(figsize =[10,7])\n",
    "plt.bar(xx, total_supply, width = 0.2, color = \"#323A45\")\n",
    "plt.bar(xx+0.2,total_cancel, width = 0.2,color = \"#9EA1A5\")\n",
    "plt.bar(xx + 0.4,total_no_cars, width = 0.2,color = \"#FCA311\")\n",
    "plt.xticks([i + 0.3 for i in range(5)], daytime_grp)\n",
    "plt.legend([\"Trip Completed\",\"Cancelled\",\"No Cars Avaiable\"])\n",
    "plt.xlabel(\"Time slots\")\n",
    "plt.ylabel(\"Count\")\n",
    "plt.title(\"Overall Demand gap w.r.t time slots\")\n",
    "plt.show()"
   ]
  },
  {
   "cell_type": "markdown",
   "id": "51bcbdda",
   "metadata": {},
   "source": [
    "<ul>\n",
    "    <li>At every time slot except at afternoon the number\n",
    "of rides that didn’t happen is greater than rides\n",
    "        that got completed.</li>\n",
    "    <li>In early morning and morning the major reason for\n",
    "        rides that didn’t happen is because of\n",
    "        cancellation.</li>\n",
    "    <li>From Afternoon till Night Non availability of cars\n",
    "        was the reason for that rides that couldn’t get to\n",
    "        the user.</li>\n",
    "    <li>58.02% of total users requirement were not\n",
    "        completed due to Cancellation and Non\n",
    "        availability of cars in both the trips.</li>\n",
    "    <li>Adding new cabs to the company can bring a huge\n",
    "        difference in the income for the company.</li>\n",
    "    <li>We can make a separate Category like Airport\n",
    "        services in the app and can put few drivers only\n",
    "        for that duty.</li>\n",
    "    <li>We can also make pre-bookings and schedule\n",
    "        drivers for the same so that drivers need not wait\n",
    "        near the airport for next customers.</li>\n",
    "</ul>\n"
   ]
  },
  {
   "cell_type": "code",
   "execution_count": 43,
   "id": "61b67260",
   "metadata": {},
   "outputs": [
    {
     "data": {
      "text/plain": [
       "3914"
      ]
     },
     "execution_count": 43,
     "metadata": {},
     "output_type": "execute_result"
    }
   ],
   "source": [
    "total_rej = [total_cancel[i] + total_no_cars[i] for i in range(5)]\n",
    "sum(total_rej)"
   ]
  },
  {
   "cell_type": "code",
   "execution_count": 44,
   "id": "cd911e20",
   "metadata": {},
   "outputs": [
    {
     "data": {
      "image/png": "[encoded data removed]",
      "text/plain": [
       "<Figure size 648x360 with 1 Axes>"
      ]
     },
     "metadata": {
      "needs_background": "light"
     },
     "output_type": "display_data"
    }
   ],
   "source": [
    "\n",
    "plt.figure(figsize=[9,5])\n",
    "plt.bar(xx , total_supply, width = 0.3, color = \"#00A36C\")\n",
    "plt.bar(xx +0.3, total_rej, width= 0.3,color =\"#89CFF0\")\n",
    "plt.xticks([i + 0.3 for i in range(5)], daytime_grp)\n",
    "plt.legend([\"Trip Completed\",\"Not Completed\"])\n",
    "plt.xlabel(\"Time slots\")\n",
    "plt.ylabel(\"Count\")\n",
    "plt.title(\"Overall count of trips that were completed and not completed\")\n",
    "plt.show()\n"
   ]
  },
  {
   "cell_type": "markdown",
   "id": "ddc63881",
   "metadata": {},
   "source": [
    "<ul>\n",
    "    <li>Adding new cabs to the company can bring a huge\n",
    "        difference in the income for the company.</li>\n",
    "    <li>We can make a separate Category like Airport\n",
    "        services in the app and can put few drivers only\n",
    "        for that duty.</li>\n",
    "    <li>We can also make pre-bookings and schedule\n",
    "        drivers for the same so that drivers need not wait\n",
    "        near the airport for next customers.</li>\n",
    "</ul>\n"
   ]
  },
  {
   "cell_type": "code",
   "execution_count": null,
   "id": "cb8cae7b",
   "metadata": {},
   "outputs": [],
   "source": []
  }
 ],
 "metadata": {
  "kernelspec": {
   "display_name": "Python 3 (ipykernel)",
   "language": "python",
   "name": "python3"
  },
  "language_info": {
   "codemirror_mode": {
    "name": "ipython",
    "version": 3
   },
   "file_extension": ".py",
   "mimetype": "text/x-python",
   "name": "python",
   "nbconvert_exporter": "python",
   "pygments_lexer": "ipython3",
   "version": "3.9.7"
  }
 },
 "nbformat": 4,
 "nbformat_minor": 5
}
